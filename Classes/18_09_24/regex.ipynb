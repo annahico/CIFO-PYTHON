{
 "cells": [
  {
   "cell_type": "markdown",
   "metadata": {},
   "source": [
    "Exercici 1: \n",
    "\n",
    "Validació de correus electrònics Objectiu: Escriu una expressió regular per validar correus electrònics simples. \n",
    "\n",
    "Entrada: hola@test.com, josep.puigdemont@company.cat, marta123@xyz.org, persona@.\n",
    "\n",
    "\n",
    "\n",
    "/[a-z.0-9]+@[a-z]+.[a-z]+/gm"
   ]
  },
  {
   "cell_type": "markdown",
   "metadata": {},
   "source": [
    "[a-z]*[áéíóúàè]{1}[a-z]*\n",
    "\n",
    "mila\n",
    "milà\n",
    "ínclito\n",
    "frenesí\n",
    "intrépida"
   ]
  }
 ],
 "metadata": {
  "language_info": {
   "name": "python"
  }
 },
 "nbformat": 4,
 "nbformat_minor": 2
}
