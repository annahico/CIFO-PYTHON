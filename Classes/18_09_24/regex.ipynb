{
 "cells": [
  {
   "cell_type": "markdown",
   "metadata": {},
   "source": [
    "Exercici 1: \n",
    "\n",
    "Validació de correus electrònics Objectiu: Escriu una expressió regular per validar correus electrònics simples. \n",
    "\n",
    "Entrada: hola@test.com, josep.puigdemont@company.cat, marta123@xyz.org, persona@.\n",
    "\n",
    "\n",
    "\n",
    "/[a-z.0-9]+@[a-z]+.[a-z]+/gm"
   ]
  },
  {
   "cell_type": "markdown",
   "metadata": {},
   "source": [
    "[a-z]* [áéíóúàè]{1}[a-z]*\n",
    "\n",
    "mila\n",
    "milà\n",
    "ínclito\n",
    "frenesí\n",
    "intrépida"
   ]
  },
  {
   "cell_type": "markdown",
   "metadata": {},
   "source": [
    "Exercici 7: \n",
    "Detecció de URLs Objectiu: Escriu un regex per extreure URLs d'una cadena de text. \n",
    "\n",
    "Entrada: Visita https://www.example.com per més informació o http://test.org. \n",
    "\n",
    "També pots anar a www.google.com."
   ]
  },
  {
   "cell_type": "markdown",
   "metadata": {},
   "source": [
    "/https:\\/\\/w{3}.[a-z]+.[a-z]+|http:\\/\\/[a-z]+\\.[a-z]+|w{3}\\.[a-z]+\\.[a-z]+/gm"
   ]
  }
 ],
 "metadata": {
  "language_info": {
   "name": "python"
  }
 },
 "nbformat": 4,
 "nbformat_minor": 2
}
