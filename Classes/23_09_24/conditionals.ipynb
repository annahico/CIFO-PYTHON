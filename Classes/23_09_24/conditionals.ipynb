{
 "cells": [
  {
   "cell_type": "markdown",
   "metadata": {},
   "source": [
    "Condiciones:\n",
    "\n",
    "A) - if solito\n",
    "\n",
    "B)  - if conditional1\n",
    "    - if conditional 2    \n",
    "    - if conditional 3\n",
    "\n",
    "C)  - if\n",
    "    - elif\n",
    "    - else\n",
    "\n",
    "D)  - if\n",
    "    - elif (si hay dudad usar siempre IF)\n",
    "    - elif\n",
    "    - elif\n",
    "\n",
    "E)  - if\n",
    "    - elif\n",
    "    - elif\n",
    "    - elif\n",
    "    - else"
   ]
  },
  {
   "cell_type": "code",
   "execution_count": 1,
   "metadata": {},
   "outputs": [
    {
     "name": "stdout",
     "output_type": "stream",
     "text": [
      "a vale 3\n"
     ]
    }
   ],
   "source": [
    "a = 3\n",
    "b = 5\n",
    "if (a == 3):\n",
    "    print(\"a vale 3\")\n",
    "    \n",
    "elif (b == 5): #elif NO analitza tot\n",
    "    print (\"print vale 5\")"
   ]
  }
 ],
 "metadata": {
  "kernelspec": {
   "display_name": "Python 3",
   "language": "python",
   "name": "python3"
  },
  "language_info": {
   "codemirror_mode": {
    "name": "ipython",
    "version": 3
   },
   "file_extension": ".py",
   "mimetype": "text/x-python",
   "name": "python",
   "nbconvert_exporter": "python",
   "pygments_lexer": "ipython3",
   "version": "3.12.6"
  }
 },
 "nbformat": 4,
 "nbformat_minor": 2
}
