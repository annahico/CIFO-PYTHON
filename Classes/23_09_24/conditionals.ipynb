{
 "cells": [
  {
   "cell_type": "markdown",
   "metadata": {},
   "source": [
    "Condiciones:\n",
    "\n",
    "A) - if solito\n",
    "\n",
    "B)  - if conditional1\n",
    "    - if conditional 2    \n",
    "    - if conditional 3\n",
    "\n",
    "C)  - if\n",
    "    - elif\n",
    "    - else\n",
    "\n",
    "D)  - if\n",
    "    - elif (si hay dudad usar siempre IF)\n",
    "    - elif\n",
    "    - elif\n",
    "\n",
    "E)  - if\n",
    "    - elif\n",
    "    - elif\n",
    "    - elif\n",
    "    - else"
   ]
  },
  {
   "cell_type": "code",
   "execution_count": null,
   "metadata": {},
   "outputs": [],
   "source": [
    "a = 3\n",
    "b = 5\n",
    "if (a == 3):\n",
    "    print(\"a vale 3\")\n",
    "    \n",
    "elif (b == 5): #elif NO analitza tot\n",
    "    print (\"print vale 5\")"
   ]
  },
  {
   "cell_type": "code",
   "execution_count": 3,
   "metadata": {},
   "outputs": [
    {
     "name": "stdout",
     "output_type": "stream",
     "text": [
      "a vale 3\n",
      "c es 10\n",
      "hola\n"
     ]
    }
   ],
   "source": [
    "a = 3\n",
    "b = 5\n",
    "c = 10\n",
    "\n",
    "if a == 3:\n",
    "    print(\"a vale 3\")\n",
    "    \n",
    "elif b == 5:\n",
    "    print(\"b vale 5\")  # elif NO analitza tot, es millor posar tot IF\n",
    "    \n",
    "else:\n",
    "    print(\"últim cas\")\n",
    "\n",
    "if c == 10:\n",
    "    print(\"c es 10\")\n",
    "\n",
    "print(\"hola\")\n"
   ]
  },
  {
   "cell_type": "markdown",
   "metadata": {},
   "source": [
    "DOS CASOS:\n",
    "\n",
    "Opció A:\n",
    "\n",
    "- if cas1:\n",
    "\n",
    "- if cas2: \n",
    "\n",
    "Opció B:\n",
    "Els casos no s'esculyeixen: poden ser veritat els dos a la vegada\n",
    "\n",
    "- if cas1: \n",
    "- if cas2: \n",
    "\n",
    "OPCIÓ C:\n",
    "Els casos excluyeixen: no poden ser veritat els dos a la vegada\n",
    "\n",
    "- if cas1:\n",
    "- else:\n",
    "\n",
    "Tres casos o MÉS:\n",
    "en casos excluyents\n",
    "\n",
    "- if cas1:\n",
    "- elif cas2:\n",
    "- elif cas3:\n",
    "\n"
   ]
  },
  {
   "cell_type": "code",
   "execution_count": 6,
   "metadata": {},
   "outputs": [
    {
     "name": "stdout",
     "output_type": "stream",
     "text": [
      "El número 5 es impar.\n"
     ]
    }
   ],
   "source": [
    "#Solicitar un número al usuario\n",
    "numero = int(input(\"Introduce un número:  \"))\n",
    "\n",
    "# Condicional mutuamente excluyente: solo una de las variables es verdadera\n",
    "\n",
    "if numero % 2 == 0:\n",
    "    print(f\"El número {numero} + es par.\")\n",
    "\n",
    "else: #numero % 2 !=0:\n",
    "    print(f\"El número {numero} es impar.\")"
   ]
  }
 ],
 "metadata": {
  "kernelspec": {
   "display_name": "Python 3",
   "language": "python",
   "name": "python3"
  },
  "language_info": {
   "codemirror_mode": {
    "name": "ipython",
    "version": 3
   },
   "file_extension": ".py",
   "mimetype": "text/x-python",
   "name": "python",
   "nbconvert_exporter": "python",
   "pygments_lexer": "ipython3",
   "version": "3.12.6"
  }
 },
 "nbformat": 4,
 "nbformat_minor": 2
}
