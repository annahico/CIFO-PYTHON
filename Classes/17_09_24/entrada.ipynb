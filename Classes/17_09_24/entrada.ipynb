{
 "cells": [
  {
   "cell_type": "markdown",
   "metadata": {},
   "source": [
    "1. Mesures de les cadenes (len, max, min):\n",
    "Escriu un programa que demani a l'usuari diverses paraules separades per espais. \n",
    "El programa ha de calcular la paraula més llarga, la més curta i mostrar el caràcter amb el valor més alt i més baix ASCII dins de la cadena completa. \n",
    "\n",
    "Entrada: 'Python és increïble' \n",
    "\n",
    "Sortida esperada:\n",
    " La paraula més llarga és: increïble \n",
    " La paraula més curta és: és \n",
    "El caràcter amb el valor ASCII més alt és: y \n",
    "El caràcter amb el valor ASCII més baix és: (espai)"
   ]
  },
  {
   "cell_type": "code",
   "execution_count": 1,
   "metadata": {},
   "outputs": [],
   "source": [
    "import time\n",
    "\n",
    "entrada = input ()\n",
    "print (f\"La entrada es {entrada}\")\n",
    "paraules = entrada.split(' ')\n",
    "\n",
    "print(f\"Después de split queda así {paraules}\")\n",
    "paraula_maxima = ''\n",
    "paraula_minima = ''\n",
    "for paraula in paraules:\n",
    "    print (f\"La actual paraula es esta {paraula_maxima}\")\n",
    "    time.sleep(3)\n",
    "    if len (paraula) > len(paraula_maxima):\n",
    "\n",
    "        paraula_maxima=paraula\n",
    "        print(f\"y la máxima de momento es {paraula_maxima}\")\n",
    "print(paraula_maxima)"
   ]
  },
  {
   "cell_type": "markdown",
   "metadata": {},
   "source": [
    "2. Operacions amb cadenes (+, *, \\n):\n",
    "Escriu un programa que demani a l'usuari una frase i un número. El programa ha de concatenar la frase amb una versió repetida de la mateixa frase el número de vegades indicat, amb cada repetició en una línia nova. \n",
    "\n",
    "Entrada: 'Hola, món!', 3 \n",
    "\n",
    "Sortida esperada:\n",
    " Hola, món! \n",
    " Hola, món! \n",
    " Hola, món!"
   ]
  },
  {
   "cell_type": "code",
   "execution_count": 1,
   "metadata": {},
   "outputs": [],
   "source": [
    "frase = input('Escriu una frase: ')\n",
    "numero = input('Escriu un número: ')\n",
    "repeticions = int(numero)\n",
    "\n",
    "print(repeticions)\n",
    "print((frase+'\\n') * repeticions)"
   ]
  },
  {
   "cell_type": "markdown",
   "metadata": {},
   "source": [
    "3. Cerca de caràcters (count, index, find):\n",
    "Escriu un programa que demani una cadena i un caràcter. El programa ha de mostrar quantes vegades apareix el caràcter en la cadena, la seva primera aparició i la seva última aparició. \n",
    "\n",
    "Entrada:'supercalifragilistico', 'i' \n",
    "\n",
    "Sortida esperada: \n",
    "El caràcter 'i' apareix 3 vegades. \n",
    "La seva primera aparició és a la posició 7. \n",
    "La seva última aparició és a la posició 17."
   ]
  },
  {
   "cell_type": "code",
   "execution_count": null,
   "metadata": {},
   "outputs": [],
   "source": []
  }
 ],
 "metadata": {
  "kernelspec": {
   "display_name": "Python 3",
   "language": "python",
   "name": "python3"
  },
  "language_info": {
   "codemirror_mode": {
    "name": "ipython",
    "version": 3
   },
   "file_extension": ".py",
   "mimetype": "text/x-python",
   "name": "python",
   "nbconvert_exporter": "python",
   "pygments_lexer": "ipython3",
   "version": "3.12.6"
  }
 },
 "nbformat": 4,
 "nbformat_minor": 2
}
