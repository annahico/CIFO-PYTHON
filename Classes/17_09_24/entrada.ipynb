{
 "cells": [
  {
   "cell_type": "markdown",
   "metadata": {},
   "source": [
    "1. Mesures de les cadenes (len, max, min):\n",
    "Escriu un programa que demani a l'usuari diverses paraules separades per espais. \n",
    "El programa ha de calcular la paraula més llarga, la més curta i mostrar el caràcter amb el valor més alt i més baix ASCII dins de la cadena completa. \n",
    "\n",
    "Entrada: 'Python és increïble' \n",
    "\n",
    "Sortida esperada:\n",
    " La paraula més llarga és: increïble \n",
    " La paraula més curta és: és \n",
    "El caràcter amb el valor ASCII més alt és: y \n",
    "El caràcter amb el valor ASCII més baix és: (espai)\n",
    "\n",
    "-----------------------------------------------------------------------------------------------------------------------------------------------\n",
    "1. String measurements (len, max, min):\n",
    "Write a program that prompts the user for several words separated by spaces.\n",
    "The program must calculate the longest, shortest word and display the character with the highest and lowest ASCII value within the complete string.\n",
    "\n",
    "Entry: 'Python is awesome'\n",
    "\n",
    "Expected output:\n",
    " The longest word is: amazing\n",
    " The shortest word is: is"
   ]
  },
  {
   "cell_type": "code",
   "execution_count": 1,
   "metadata": {},
   "outputs": [],
   "source": [
    "import time\n",
    "\n",
    "entrada = input ()\n",
    "print (f\"La entrada es {entrada}\")\n",
    "paraules = entrada.split(' ')\n",
    "\n",
    "print(f\"Después de split queda así {paraules}\")\n",
    "paraula_maxima = ''\n",
    "paraula_minima = ''\n",
    "for paraula in paraules:\n",
    "    print (f\"La actual paraula es esta {paraula_maxima}\")\n",
    "    time.sleep(3)\n",
    "    if len (paraula) > len(paraula_maxima):\n",
    "\n",
    "        paraula_maxima=paraula\n",
    "        print(f\"y la máxima de momento es {paraula_maxima}\")\n",
    "print(paraula_maxima)"
   ]
  },
  {
   "cell_type": "markdown",
   "metadata": {},
   "source": [
    "2. Operacions amb cadenes (+, *, \\n):\n",
    "Escriu un programa que demani a l'usuari una frase i un número. El programa ha de concatenar la frase amb una versió repetida de la mateixa frase el número de vegades indicat, amb cada repetició en una línia nova. \n",
    "\n",
    "Entrada: 'Hola, món!', 3 \n",
    "\n",
    "Sortida esperada:\n",
    " Hola, món! \n",
    " Hola, món! \n",
    " Hola, món!\n",
    " \n",
    " ----------------------------------------------------------------------------------------------------------------------------------------------\n",
    "\n",
    " 2. Operations with strings (+, *, \\n):\n",
    "Write a program that prompts the user for a phrase and a number. The program must concatenate the sentence with a repeated version of the same sentence the specified number of times, with each repetition on a new line.\n",
    "\n",
    "Entry: 'Hello, world!', 3\n",
    "\n",
    "Expected output:\n",
    " Hello, world!\n",
    " Hello, world!\n",
    " Hello, world!"
   ]
  },
  {
   "cell_type": "code",
   "execution_count": null,
   "metadata": {},
   "outputs": [],
   "source": [
    "frase = input('Escriu una frase: ')\n",
    "numero = input('Escriu un número: ')\n",
    "repeticions = int(numero)\n",
    "\n",
    "print(repeticions)\n",
    "print((frase+'\\n') * repeticions)"
   ]
  },
  {
   "cell_type": "markdown",
   "metadata": {},
   "source": [
    "3. Cerca de caràcters (count, index, find):\n",
    "Escriu un programa que demani una cadena i un caràcter. El programa ha de mostrar quantes vegades apareix el caràcter en la cadena, la seva primera aparició i la seva última aparició. \n",
    "\n",
    "Entrada:'supercalifragilistico', 'i' \n",
    "\n",
    "Sortida esperada: \n",
    "El caràcter 'i' apareix 3 vegades. \n",
    "La seva primera aparició és a la posició 7. \n",
    "La seva última aparició és a la posició 17.\n",
    "\n",
    "-----------------------------------------------------------------------------------------------------------------------------------------------\n",
    "\n",
    "3. Character search (count, index, find):\n",
    "Write a program that asks for a string and a character. The program must display how many times the character appears in the string, its first occurrence, and its last occurrence.\n",
    "\n",
    "Entry: 'supercalifragilistico', 'i'\n",
    "\n",
    "Expected output:\n",
    "The character 'i' appears 3 times.\n",
    "Its first appearance is at position 7.\n",
    "Its last appearance is at position 17."
   ]
  },
  {
   "cell_type": "code",
   "execution_count": 5,
   "metadata": {},
   "outputs": [
    {
     "name": "stdout",
     "output_type": "stream",
     "text": [
      "4\n",
      "8\n",
      "18\n"
     ]
    }
   ],
   "source": [
    "cadena = input('supercalifragilistico')\n",
    "caracter = input('i')\n",
    "print(cadena.count('i'))\n",
    "\n",
    "cadena = input('supercalifragilistico')\n",
    "print(cadena.index('i'))\n",
    "# print(cadena.find('i'))\n",
    "print(cadena.rindex('i'))\n"
   ]
  },
  {
   "cell_type": "markdown",
   "metadata": {},
   "source": [
    "4. Majúscules i minúscules (upper, lower, capitalize):\n",
    "Escriu un programa que demani una frase a l'usuari. El programa ha de mostrar la frase en tres versions: totes les paraules en majúscula, en minúscules, i amb només la primera lletra en majúscula. \n",
    "\n",
    "Entrada: 'el gat menja peix' \n",
    "\n",
    "Sortida esperada: \n",
    "Frase amb majúscules: EL GAT MENJA PEIX \n",
    "Frase en minúscules: el gat menja peix \n",
    "Frase capitalitzada: El gat menja peix \n",
    "La frase estava originalment en minúscules."
   ]
  },
  {
   "cell_type": "code",
   "execution_count": null,
   "metadata": {},
   "outputs": [],
   "source": []
  }
 ],
 "metadata": {
  "kernelspec": {
   "display_name": "Python 3",
   "language": "python",
   "name": "python3"
  },
  "language_info": {
   "codemirror_mode": {
    "name": "ipython",
    "version": 3
   },
   "file_extension": ".py",
   "mimetype": "text/x-python",
   "name": "python",
   "nbconvert_exporter": "python",
   "pygments_lexer": "ipython3",
   "version": "3.12.6"
  }
 },
 "nbformat": 4,
 "nbformat_minor": 2
}
