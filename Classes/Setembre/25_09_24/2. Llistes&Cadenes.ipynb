{
 "cells": [
  {
   "cell_type": "markdown",
   "metadata": {},
   "source": [
    "                                                                        LLISTES"
   ]
  },
  {
   "cell_type": "markdown",
   "metadata": {},
   "source": [
    "- Per cada ELEMENT que tingui COMPTADORS \n",
    "- quan vull modificar un element haig de concretar quina posició de l'element vull modificar. SEMPRE ES COMENÇA PER 0"
   ]
  },
  {
   "cell_type": "code",
   "execution_count": 4,
   "metadata": {},
   "outputs": [
    {
     "name": "stdout",
     "output_type": "stream",
     "text": [
      "[0, 1, 0, 0, 0]\n",
      "[1, 2, 1, 1, 1]\n"
     ]
    }
   ],
   "source": [
    "comptadors = [0,1,0,0,0,]\n",
    "for valor in comptadors:\n",
    "   valor += 1\n",
    "\n",
    "print(comptadors)\n",
    "\n",
    "for posicio in range(len(comptadors)):\n",
    "    comptadors[posicio] +=1 #el valor de comptadors en la posició \n",
    "\n",
    "print(comptadors)\n"
   ]
  },
  {
   "cell_type": "markdown",
   "metadata": {},
   "source": [
    "- En el primer codi no estaà recorrent l'estructura, no està modificant COMPTADORS perque està copiant el VALOR, no està atacant a COMPTADORS.\n",
    "- el VALOR és una altre posició de memoria copia\n",
    "- Per poder modificar COMPTADORS s'ha de fer per rangs (RANGE) o creant una nova llista on si es modifica el VALOR"
   ]
  },
  {
   "cell_type": "code",
   "execution_count": 2,
   "metadata": {},
   "outputs": [
    {
     "name": "stdout",
     "output_type": "stream",
     "text": [
      "[1, 2, 1, 1, 1]\n",
      "[1, 2, 1, 1, 1]\n"
     ]
    }
   ],
   "source": [
    "comptadors = [0,1,0,0,0,]\n",
    "resultat = []\n",
    "\n",
    "for valor in comptadors:\n",
    "    valor += 1\n",
    "    resultat.append(valor)\n",
    "print(resultat)\n",
    "\n",
    "for posicio in range(len(comptadors)):\n",
    "    comptadors[posicio] +=1 #el valor de comptadors en la posició \n",
    "print(comptadors)\n"
   ]
  },
  {
   "cell_type": "markdown",
   "metadata": {},
   "source": [
    "                                                                         CADENES"
   ]
  },
  {
   "cell_type": "code",
   "execution_count": null,
   "metadata": {},
   "outputs": [],
   "source": [
    "cadena = \"murder\"\n",
    "\n",
    "for car in cadena:\n",
    "    car = \"a\"\n",
    "print(cadena)"
   ]
  },
  {
   "cell_type": "markdown",
   "metadata": {},
   "source": [
    "- No funciona perque NO es pot modificar una CADENA, es poden modificar les LLISTES"
   ]
  },
  {
   "cell_type": "code",
   "execution_count": 5,
   "metadata": {},
   "outputs": [
    {
     "name": "stdout",
     "output_type": "stream",
     "text": [
      "murder\n"
     ]
    },
    {
     "ename": "TypeError",
     "evalue": "'str' object does not support item assignment",
     "output_type": "error",
     "traceback": [
      "\u001b[1;31m---------------------------------------------------------------------------\u001b[0m",
      "\u001b[1;31mTypeError\u001b[0m                                 Traceback (most recent call last)",
      "Cell \u001b[1;32mIn[5], line 8\u001b[0m\n\u001b[0;32m      5\u001b[0m \u001b[38;5;28mprint\u001b[39m(cadena)\n\u001b[0;32m      7\u001b[0m \u001b[38;5;28;01mfor\u001b[39;00m pos \u001b[38;5;129;01min\u001b[39;00m \u001b[38;5;28mrange\u001b[39m(\u001b[38;5;28mlen\u001b[39m(cadena)):\n\u001b[1;32m----> 8\u001b[0m     \u001b[43mcadena\u001b[49m\u001b[43m[\u001b[49m\u001b[43mpos\u001b[49m\u001b[43m]\u001b[49m \u001b[38;5;241m=\u001b[39m \u001b[38;5;124m\"\u001b[39m\u001b[38;5;124ma\u001b[39m\u001b[38;5;124m\"\u001b[39m\n",
      "\u001b[1;31mTypeError\u001b[0m: 'str' object does not support item assignment"
     ]
    }
   ],
   "source": [
    "cadena = \"murder\"\n",
    "\n",
    "for car in cadena:\n",
    "    car = \"a\"\n",
    "print(cadena)\n",
    "\n",
    "for pos in range(len(cadena)):\n",
    "    cadena[pos] = \"a\""
   ]
  },
  {
   "cell_type": "code",
   "execution_count": 6,
   "metadata": {},
   "outputs": [
    {
     "name": "stdout",
     "output_type": "stream",
     "text": [
      "murder\n",
      "aaaaaamurder\n"
     ]
    }
   ],
   "source": [
    "cadena = \"murder\"\n",
    "resultat = \"\"\n",
    "\n",
    "for car in cadena: #això es només un comptador BUCLE COMPTADOR\n",
    "    resultat += \"a\" #això es la longitud\n",
    "print(cadena)\n",
    "\n",
    "for pos in range(len(cadena)):  \n",
    "    resultat += cadena[pos] #posició de la CADENA aquí es modifica el RESULTAT, no la CADENA\n",
    "print(resultat)"
   ]
  },
  {
   "cell_type": "markdown",
   "metadata": {},
   "source": [
    "- ID = indica on s'enmmagatzema la posició de la memòria del PC en una CADENA\n",
    "- Si modifiques una cadena, canvia la ID"
   ]
  },
  {
   "cell_type": "code",
   "execution_count": 7,
   "metadata": {},
   "outputs": [
    {
     "name": "stdout",
     "output_type": "stream",
     "text": [
      "Memòria de cadena abans: 2329941686432\n"
     ]
    }
   ],
   "source": [
    "cadena = \"hola\"\n",
    "print(f\"Memòria de cadena abans: {id(cadena)}\") #ID es la posició de memòria del PC\n",
    "\n"
   ]
  },
  {
   "cell_type": "code",
   "execution_count": 9,
   "metadata": {},
   "outputs": [
    {
     "name": "stdout",
     "output_type": "stream",
     "text": [
      "140728038984120\n",
      "140728038984088\n",
      "140728038984152\n",
      "140728038984088\n",
      "140728038984120\n",
      "140728038984088\n",
      "140728038984120\n",
      "140728038984088\n",
      "140728038984120\n",
      "140728038984088\n",
      "[0, 1, 0, 0, 0]\n",
      "[1, 2, 1, 1, 1]\n"
     ]
    }
   ],
   "source": [
    "comptadors = [0,1,0,0,0,]\n",
    "resultat = []\n",
    "\n",
    "for valor in comptadors:\n",
    "    valor += 1\n",
    "    print(id(valor)) \n",
    "    print(id(comptadors[0]))\n",
    "print(comptadors)\n",
    "\n",
    "for posicio in range(len(comptadors)):\n",
    "    comptadors[posicio] +=1 \n",
    "print(comptadors)\n"
   ]
  },
  {
   "cell_type": "code",
   "execution_count": 10,
   "metadata": {},
   "outputs": [
    {
     "name": "stdout",
     "output_type": "stream",
     "text": [
      "[2, 3, 2, 2, 2]\n",
      "2329941644480\n",
      "[12, 13, 12, 12, 12]\n",
      "2329941644480\n",
      "2329941644480\n"
     ]
    }
   ],
   "source": [
    "comptadors = [2,3,2,2,2,]\n",
    "print(comptadors)\n",
    "print(id(comptadors))\n",
    "\n",
    "for posicio in range(len(comptadors)):\n",
    "    comptadors[posicio] +=10 \n",
    "print(comptadors)\n",
    "print (id(comptadors))\n",
    "\n",
    "for posicio in range(len(comptadors)):\n",
    "    comptadors[posicio] = 1\n",
    "print(id(comptadors))"
   ]
  },
  {
   "cell_type": "markdown",
   "metadata": {},
   "source": [
    "                                                          MODIFICACIÓ DE CADENES"
   ]
  },
  {
   "cell_type": "code",
   "execution_count": null,
   "metadata": {},
   "outputs": [],
   "source": [
    "llista = [1,2,3,4,5]\n",
    "llista.append(5) #SI FUNCIONA\n",
    "llista = llista.append(5) #NO mostra la llista\n",
    "print(llista)"
   ]
  },
  {
   "cell_type": "markdown",
   "metadata": {},
   "source": [
    "Amb les LLISTES NO podem posar ***llista = llista.replace*** pero a les CADENES SI ***cadena = cadena.replace***"
   ]
  },
  {
   "cell_type": "code",
   "execution_count": 11,
   "metadata": {},
   "outputs": [
    {
     "name": "stdout",
     "output_type": "stream",
     "text": [
      "2329941680528\n",
      "2329941680528\n",
      "hola\n"
     ]
    }
   ],
   "source": [
    "cadena = \" ho la \"\n",
    "print(id(cadena))\n",
    "cadena2 = cadena.replace(\" \",\"\") # es remplaça una cadena per una altre nova\n",
    "print(id(cadena))\n",
    "print(cadena2)"
   ]
  },
  {
   "cell_type": "code",
   "execution_count": 12,
   "metadata": {},
   "outputs": [
    {
     "name": "stdout",
     "output_type": "stream",
     "text": [
      "2329938335504\n",
      "2329941283856\n",
      " ho la \n"
     ]
    }
   ],
   "source": [
    "cadena = \" ho la \"\n",
    "print(id(cadena.replace(\" \",\"\")))\n",
    "print(id(cadena))\n",
    "print(cadena)"
   ]
  }
 ],
 "metadata": {
  "kernelspec": {
   "display_name": "Python 3",
   "language": "python",
   "name": "python3"
  },
  "language_info": {
   "codemirror_mode": {
    "name": "ipython",
    "version": 3
   },
   "file_extension": ".py",
   "mimetype": "text/x-python",
   "name": "python",
   "nbconvert_exporter": "python",
   "pygments_lexer": "ipython3",
   "version": "3.12.6"
  }
 },
 "nbformat": 4,
 "nbformat_minor": 2
}
