{
 "cells": [
  {
   "cell_type": "markdown",
   "metadata": {},
   "source": [
    "1. Mesures de les cadenes (len, max, min):\n",
    "Escriu un programa que demani a l'usuari diverses paraules separades per espais. \n",
    "El programa ha de calcular la paraula més llarga, la més curta i mostrar el caràcter amb el valor més alt i més baix ASCII dins de la cadena completa. \n",
    "\n",
    "Entrada: 'Python és increïble' \n",
    "\n",
    "Sortida esperada:\n",
    "- La paraula més llarga és: increïble \n",
    "- La paraula més curta és: és \n",
    "- El caràcter amb el valor ASCII més alt és: y \n",
    "- El caràcter amb el valor ASCII més baix és: (espai)\n"
   ]
  },
  {
   "cell_type": "code",
   "execution_count": 1,
   "metadata": {},
   "outputs": [],
   "source": [
    "import time\n",
    "\n",
    "entrada = input ()\n",
    "\n",
    "print (f\"La entrada es {entrada}\")\n",
    "\n",
    "paraules = entrada.split(' ')\n",
    "\n",
    "print(f\"Después de split queda así {paraules}\")\n",
    "\n",
    "paraula_maxima = ''\n",
    "paraula_minima = ''\n",
    "for paraula in paraules:\n",
    "    print (f\"La actual paraula es esta {paraula_maxima}\")\n",
    "    time.sleep(3)\n",
    "    if len (paraula) > len(paraula_maxima):\n",
    "\n",
    "        paraula_maxima=paraula\n",
    "        print(f\"y la máxima de momento es {paraula_maxima}\")\n",
    "\n",
    "print(paraula_maxima)"
   ]
  },
  {
   "cell_type": "markdown",
   "metadata": {},
   "source": [
    "2. Operacions amb cadenes (+, *, \\n):\n",
    "Escriu un programa que demani a l'usuari una frase i un número. El programa ha de concatenar la frase amb una versió repetida de la mateixa frase el número de vegades indicat, amb cada repetició en una línia nova. \n",
    "\n",
    "Entrada: 'Hola, món!', 3 \n",
    "\n",
    "Sortida esperada:\n",
    " - Hola, món! \n",
    " - Hola, món! \n",
    " - Hola, món!\n",
    " "
   ]
  },
  {
   "cell_type": "code",
   "execution_count": null,
   "metadata": {},
   "outputs": [],
   "source": [
    "frase = input('Escriu una frase: ')\n",
    "numero = input('Escriu un número: ')\n",
    "repeticions = int(numero)\n",
    "\n",
    "print(repeticions)\n",
    "print((frase+'\\n') * repeticions)"
   ]
  },
  {
   "cell_type": "markdown",
   "metadata": {},
   "source": [
    "3. Cerca de caràcters (count, index, find):\n",
    "Escriu un programa que demani una cadena i un caràcter. El programa ha de mostrar quantes vegades apareix el caràcter en la cadena, la seva primera aparició i la seva última aparició. \n",
    "\n",
    "Entrada:'supercalifragilistico', 'i' \n",
    "\n",
    "Sortida esperada: \n",
    "- El caràcter 'i' apareix 3 vegades. \n",
    "- La seva primera aparició és a la posició 7. \n",
    "- La seva última aparició és a la posició 17.\n"
   ]
  },
  {
   "cell_type": "code",
   "execution_count": null,
   "metadata": {},
   "outputs": [],
   "source": [
    "cadena = input('supercalifragilistico')\n",
    "caracter = input('i')\n",
    "\n",
    "print(cadena.count('i'))\n",
    "\n",
    "cadena = input('supercalifragilistico')\n",
    "\n",
    "print(cadena.index('i'))\n",
    "print(cadena.rindex('i'))\n"
   ]
  },
  {
   "cell_type": "markdown",
   "metadata": {},
   "source": [
    "4. Majúscules i minúscules (upper, lower, capitalize):\n",
    "Escriu un programa que demani una frase a l'usuari. El programa ha de mostrar la frase en tres versions: totes les paraules en majúscula, en minúscules, i amb només la primera lletra en majúscula. \n",
    "\n",
    "Entrada: 'el gat menja peix' \n",
    "\n",
    "Sortida esperada: \n",
    "- Frase amb majúscules: EL GAT MENJA PEIX \n",
    "- Frase en minúscules: el gat menja peix \n",
    "- Frase capitalitzada: El gat menja peix \n",
    "- La frase estava originalment en minúscules."
   ]
  },
  {
   "cell_type": "code",
   "execution_count": null,
   "metadata": {},
   "outputs": [],
   "source": [
    "cadena = \"el gat menja peix\"\n",
    "\n",
    "print(cadena.upper())\n",
    "print(cadena.lower())\n",
    "print(cadena.capitalize())\n",
    "print(cadena)\n"
   ]
  },
  {
   "cell_type": "markdown",
   "metadata": {},
   "source": [
    "5. Concatenació de cadenes (''.join()):\n",
    "Escriu un programa que demani a l'usuari una llista de paraules separades per comes i un símbol escollit per l'usuari per unir-les. \n",
    "\n",
    "Entrada: 'poma,plàtan,taronja', '@' \n",
    "\n",
    "Sortida esperada: \n",
    "- poma@plàtan@taronja"
   ]
  },
  {
   "cell_type": "code",
   "execution_count": null,
   "metadata": {},
   "outputs": [],
   "source": [
    "cad1 = \"poma\"\n",
    "cad2 = \"plàtan\"\n",
    "cad3 = \"taronja\"\n",
    "\n",
    "print('@'.join([cad1,cad2,cad3]))"
   ]
  },
  {
   "cell_type": "markdown",
   "metadata": {},
   "source": [
    "6. Divisió de cadenes (split, partition):\n",
    "Escriu un programa que demani a l'usuari una frase llarga i una paraula de divisió. El programa ha de dividir la frase utilitzant 'partition' i després mostrar la llista de paraules utilitzant 'split'. \n",
    "\n",
    "Entrada: 'A mi m'agrada la pizza, i també la pasta', 'pizza' \n",
    "\n",
    "Sortida esperada: \n",
    "- Partició de la frase: ('A mi m'agrada la ', 'pizza', ', i també la pasta') \n",
    "- Llista de paraules: ['A', 'mi', \"m'agrada\", 'la', 'pizza,', 'i', 'també', 'la', 'pasta']"
   ]
  },
  {
   "cell_type": "code",
   "execution_count": null,
   "metadata": {},
   "outputs": [],
   "source": [
    "cadena = \"'A mi m'agrada la pizza, i també la pasta', 'pizza'\"\n",
    "\n",
    "print(cadena.split(','))\n",
    "print(cadena.partition('pizza'))"
   ]
  },
  {
   "cell_type": "markdown",
   "metadata": {},
   "source": [
    "7. Ordenació de cadenes (sorted):\n",
    "Escriu un programa que demani a l'usuari una frase i mostri els caràcters ordenats de manera ascendent i descendent. \n",
    "\n",
    "Entrada:'zebra' \n",
    "\n",
    "Sortida esperada: \n",
    "- Caràcters ordenats (ascendent): aebrz \n",
    "- Caràcters ordenats (descendent): zrbca"
   ]
  },
  {
   "cell_type": "code",
   "execution_count": 2,
   "metadata": {},
   "outputs": [
    {
     "name": "stdout",
     "output_type": "stream",
     "text": [
      "['a', 'b', 'e', 'r', 'z']\n",
      "['z', 'r', 'e', 'b', 'a']\n"
     ]
    }
   ],
   "source": [
    "cadena = \"zebra\"\n",
    "\n",
    "print(sorted(cadena))\n",
    "print(sorted(cadena,reverse = True))\n"
   ]
  },
  {
   "cell_type": "markdown",
   "metadata": {},
   "source": [
    "8. Modificació de cadenes (replace, strip, lstrip, rstrip):\n",
    "Escriu un programa que demani una frase amb espais al principi i al final, i un caràcter o paraula a substituir. Utilitza 'strip', 'replace', 'lstrip' i 'rstrip' per modificar la cadena i mostrar les versions. \n",
    "\n",
    "Entrada: ' Hola, Python és genial! ', 'Python' \n",
    "\n",
    "Sortida esperada: \n",
    "\n",
    "- Frase sense espais: 'Hola, Python és genial!' \n",
    "- Frase sense espais inicials: 'Hola, Python és genial! ' \n",
    "- Frase sense espais finals: ' Hola, Python és genial!' \n",
    "- Frase modificada: 'Hola, [substituït] és genial!'"
   ]
  },
  {
   "cell_type": "code",
   "execution_count": 5,
   "metadata": {},
   "outputs": [
    {
     "name": "stdout",
     "output_type": "stream",
     "text": [
      "' Hola, Python és genial! '\n",
      "' Hola, Python és genial! '\n",
      "' Hola, Python és genial! '\n",
      "' Hola, ChatGPT és genial! '\n"
     ]
    }
   ],
   "source": [
    "cadena = \"' Hola, Python és genial! '\"\n",
    "\n",
    "print(cadena.rstrip(''))\n",
    "print(cadena.lstrip(''))\n",
    "print(cadena.strip(' '))\n",
    "print(cadena.replace('Python','ChatGPT'))"
   ]
  }
 ],
 "metadata": {
  "kernelspec": {
   "display_name": "Python 3",
   "language": "python",
   "name": "python3"
  },
  "language_info": {
   "codemirror_mode": {
    "name": "ipython",
    "version": 3
   },
   "file_extension": ".py",
   "mimetype": "text/x-python",
   "name": "python",
   "nbconvert_exporter": "python",
   "pygments_lexer": "ipython3",
   "version": "3.12.6"
  }
 },
 "nbformat": 4,
 "nbformat_minor": 2
}
