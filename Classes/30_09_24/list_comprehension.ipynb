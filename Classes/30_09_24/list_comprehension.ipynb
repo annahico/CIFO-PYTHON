{
 "cells": [
  {
   "cell_type": "markdown",
   "metadata": {},
   "source": [
    "El List Comprehension només funciona en LLISTES i si el resultat es una altre LLISTA"
   ]
  },
  {
   "cell_type": "markdown",
   "metadata": {},
   "source": [
    "A)  bucle for\n",
    "\n",
    "resultat =[]\n",
    "\n",
    "for element in llista:\n",
    "\n",
    "    resultat.append(element**2)"
   ]
  },
  {
   "cell_type": "markdown",
   "metadata": {},
   "source": [
    "B) list comprehension\n",
    "\n",
    "resultat = [element**2 for element in llista]"
   ]
  },
  {
   "cell_type": "markdown",
   "metadata": {},
   "source": [
    "1000 números aleatorios 0.1000 en una lista\n",
    "\n",
    "aleatorios = [random.randint(0.1000) for contador in range(100)]"
   ]
  }
 ],
 "metadata": {
  "language_info": {
   "name": "python"
  }
 },
 "nbformat": 4,
 "nbformat_minor": 2
}
