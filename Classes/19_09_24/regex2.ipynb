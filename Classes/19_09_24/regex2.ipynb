{
 "cells": [
  {
   "cell_type": "markdown",
   "metadata": {},
   "source": [
    "Exercici 13: Extracció d'enllaços sense protocol\n",
    "\n",
    "Objectiu: Escriu un regex per extreure enllaços web que no incloguin el protocol (ex: www).\n",
    "Entrada: Visita www.example.com per més informació."
   ]
  },
  {
   "cell_type": "markdown",
   "metadata": {},
   "source": [
    "(?<=^|\\s)w{3}(\\.[a-zA-Z0-9]+)+(?=\\s|$)"
   ]
  },
  {
   "cell_type": "markdown",
   "metadata": {},
   "source": [
    "Exercici 15: Extracció de coordenades geogràfiques\n",
    "\n",
    "Objectiu: Escriu un regex per extreure coordenades en format de graus decimals.\n",
    "Entrada: 41.40338, 2.17403."
   ]
  },
  {
   "cell_type": "markdown",
   "metadata": {},
   "source": [
    "(?<=^|\\s)(\\-{0,1}[1-8]?[0-9]{1}.[0-9]{5}|\\-{0,1}90),\\s-?(180|1[0-7][0-9]\\.[0-9]{5}|[1-9]?[0-9]\\.[0-9]{5})(?=$|\\s)"
   ]
  },
  {
   "cell_type": "markdown",
   "metadata": {},
   "source": [
    "Exercici 17: Extracció de paraules que contenen números\n",
    "\n",
    "Objectiu: Escriu un regex per extreure paraules que continguin números.\n",
    "Entrada: He comprat 3pomes i 5plàtans."
   ]
  },
  {
   "cell_type": "markdown",
   "metadata": {},
   "source": [
    "[a-zA-ZàèìòùáéíóúÀÈÌÒÙÁÉÍÓÚ]*[0-9]+[a-zA-ZàèìòùáéíóúÀÈÌÒÙÁÉÍÓÚ0-9]*"
   ]
  },
  {
   "cell_type": "markdown",
   "metadata": {},
   "source": []
  }
 ],
 "metadata": {
  "language_info": {
   "name": "python"
  }
 },
 "nbformat": 4,
 "nbformat_minor": 2
}
