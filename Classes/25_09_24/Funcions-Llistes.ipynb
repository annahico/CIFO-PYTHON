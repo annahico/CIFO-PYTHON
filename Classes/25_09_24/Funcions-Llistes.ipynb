{
 "cells": [
  {
   "cell_type": "markdown",
   "metadata": {},
   "source": [
    "                                                               REORDENAR LLISTES"
   ]
  },
  {
   "cell_type": "markdown",
   "metadata": {},
   "source": [
    "NO FUNCIONA"
   ]
  },
  {
   "cell_type": "code",
   "execution_count": null,
   "metadata": {},
   "outputs": [],
   "source": [
    "def ordenada(l): # l = llista\n",
    "\n",
    "    return l.sort()\n",
    "print(ordenada([1,5,25,4,75]))"
   ]
  },
  {
   "cell_type": "code",
   "execution_count": 10,
   "metadata": {},
   "outputs": [
    {
     "name": "stdout",
     "output_type": "stream",
     "text": [
      "[1, 4, 5, 25, 75]\n"
     ]
    }
   ],
   "source": [
    "def ordenada(l): \n",
    "\n",
    "    l.sort()\n",
    "    return l\n",
    "print(ordenada([1,5,25,4,75]))"
   ]
  },
  {
   "cell_type": "code",
   "execution_count": null,
   "metadata": {},
   "outputs": [],
   "source": [
    "def ordenada(llista):\n",
    "    resultado = llista[:]\n",
    "    resultado.sort()\n",
    "    return resultado\n",
    "\n",
    "llista = [1,5,25,4,75]\n",
    "print(ordenada(llista)) # modifiquem la llista perque sorti ordenada\n",
    "print(llista) # no es modifica l'origen de la llista"
   ]
  },
  {
   "cell_type": "code",
   "execution_count": null,
   "metadata": {},
   "outputs": [],
   "source": [
    "llista = [1,5,25,4,75]\n",
    "\n",
    "llista.sort()\n",
    "print(llista)"
   ]
  },
  {
   "cell_type": "markdown",
   "metadata": {},
   "source": [
    "NO FUNCIONA"
   ]
  },
  {
   "cell_type": "code",
   "execution_count": null,
   "metadata": {},
   "outputs": [],
   "source": [
    "def ordenada(llista):\n",
    "\n",
    "    llista.sort()\n",
    "    \n",
    "llista = [1,5,25,4,75]\n",
    "llista2 = (ordenada(llista)) # NO funciona peque no hi ha RETURN\n",
    "print(llista2)\n",
    "print(llista)"
   ]
  },
  {
   "cell_type": "code",
   "execution_count": null,
   "metadata": {},
   "outputs": [],
   "source": [
    "def ordenada(llista):\n",
    "\n",
    "    resultat = llista[:]\n",
    "    resultat.sort()\n",
    "    return resultat # \n",
    "    \n",
    "llista = [1,5,25,4,75]\n",
    "llista2 = (ordenada(llista)) \n",
    "print(llista2)\n",
    "print(llista)"
   ]
  }
 ],
 "metadata": {
  "kernelspec": {
   "display_name": "Python 3",
   "language": "python",
   "name": "python3"
  },
  "language_info": {
   "codemirror_mode": {
    "name": "ipython",
    "version": 3
   },
   "file_extension": ".py",
   "mimetype": "text/x-python",
   "name": "python",
   "nbconvert_exporter": "python",
   "pygments_lexer": "ipython3",
   "version": "3.12.6"
  }
 },
 "nbformat": 4,
 "nbformat_minor": 2
}
