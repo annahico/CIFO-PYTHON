{
 "cells": [
  {
   "cell_type": "markdown",
   "metadata": {},
   "source": [
    "                                                                     SUB LLISTES"
   ]
  },
  {
   "cell_type": "code",
   "execution_count": null,
   "metadata": {},
   "outputs": [],
   "source": [
    "comptadors = [2,2,2,2,2] #posicions 0-1-2-3-4\n",
    "print(comptadors[0:3]) #de la posició 0 a la 3\n",
    "print(type(comptadors[0:3]))\n",
    "print(comptadors[3:]) #de la posició 3 cap al final\n",
    "print(comptadors[:3])\n",
    "print(comptadors[0:len(comptadors)]) #possem això quan no sabem la longitud total de la llista\n",
    "print(comptadors[:]) # es el mateix que el codi d'adalt\n"
   ]
  },
  {
   "cell_type": "code",
   "execution_count": null,
   "metadata": {},
   "outputs": [],
   "source": [
    "a = 1 # 1\n",
    "b = a # 1\n",
    "a += 1 # 1 + 1\n",
    "print(a)\n",
    "print(b)"
   ]
  },
  {
   "cell_type": "code",
   "execution_count": null,
   "metadata": {},
   "outputs": [],
   "source": [
    "a = ['hola', 'pollo'] \n",
    "b = a #mateixa posició que A\n",
    "a.append('saltarin')\n",
    "print(a, id(a))\n",
    "print(b, id(b))"
   ]
  },
  {
   "cell_type": "markdown",
   "metadata": {},
   "source": [
    "- son una COPIA de la LLISTA, degut a que tenen la mateixa ID"
   ]
  },
  {
   "cell_type": "code",
   "execution_count": null,
   "metadata": {},
   "outputs": [],
   "source": [
    "sa = 'hola'\n",
    "sb = sa\n",
    "sa = 'saltarin'\n",
    "print(sa, id(sa))\n",
    "print(sb, id(sb))"
   ]
  },
  {
   "cell_type": "code",
   "execution_count": null,
   "metadata": {},
   "outputs": [],
   "source": [
    "a = ['hola', 'pollo']\n",
    "b = a[:] # son dues posicions diferents\n",
    "a.append('saltarin')\n",
    "print(a, id(a))\n",
    "print(b, id(b))"
   ]
  },
  {
   "cell_type": "markdown",
   "metadata": {},
   "source": [
    "- Afegir tots els index de A"
   ]
  }
 ],
 "metadata": {
  "language_info": {
   "name": "python"
  }
 },
 "nbformat": 4,
 "nbformat_minor": 2
}
