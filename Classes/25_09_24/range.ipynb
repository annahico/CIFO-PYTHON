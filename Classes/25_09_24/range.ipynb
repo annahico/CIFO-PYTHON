{
 "cells": [
  {
   "cell_type": "code",
   "execution_count": null,
   "metadata": {},
   "outputs": [],
   "source": [
    "for num in range(10):\n",
    "    print(num)"
   ]
  },
  {
   "cell_type": "markdown",
   "metadata": {},
   "source": [
    "range(i, j) \n",
    "\n",
    "i, i+1, ...,j-2, j-1\n"
   ]
  },
  {
   "cell_type": "markdown",
   "metadata": {},
   "source": [
    "range(j) equivale range(0,j) 0,1...,j-1"
   ]
  },
  {
   "cell_type": "markdown",
   "metadata": {},
   "source": [
    "range(start, stop, step)"
   ]
  },
  {
   "cell_type": "markdown",
   "metadata": {},
   "source": [
    "range(i,j,s)  i, i+s, i+2*s,   ,?"
   ]
  },
  {
   "cell_type": "markdown",
   "metadata": {},
   "source": [
    "range(5)  0,...,4"
   ]
  },
  {
   "cell_type": "markdown",
   "metadata": {},
   "source": [
    "range(2,6) 2.3.4.5"
   ]
  },
  {
   "cell_type": "markdown",
   "metadata": {},
   "source": [
    "range(2,20,5) 2, 7, 12, 17"
   ]
  },
  {
   "cell_type": "code",
   "execution_count": null,
   "metadata": {},
   "outputs": [],
   "source": [
    "for num in range(2,20,5):\n",
    "    print(num)"
   ]
  },
  {
   "cell_type": "markdown",
   "metadata": {},
   "source": [
    "range(20,2,-2) 20, 18, 16, ..."
   ]
  },
  {
   "cell_type": "code",
   "execution_count": null,
   "metadata": {},
   "outputs": [],
   "source": [
    "for num in range(20,2,-2):\n",
    "    print(num)"
   ]
  },
  {
   "cell_type": "markdown",
   "metadata": {},
   "source": [
    "                                                                        LLISTES"
   ]
  },
  {
   "cell_type": "markdown",
   "metadata": {},
   "source": [
    "- Per cada ELEMENT que tingui COMPTADORS \n",
    "- quan vull modificar un element haig de concretar quina posició de l'element vull modificar. SEMPRE ES COMENÇA PER 0"
   ]
  },
  {
   "cell_type": "code",
   "execution_count": 11,
   "metadata": {},
   "outputs": [
    {
     "name": "stdout",
     "output_type": "stream",
     "text": [
      "[0, 0, 0, 0, 0]\n",
      "[1, 1, 1, 1, 1]\n"
     ]
    }
   ],
   "source": [
    "comptadors = [0,0,0,0,0,]\n",
    "for valor in comptadors:\n",
    "   valor += 1\n",
    "\n",
    "print(comptadors)\n",
    "\n",
    "for posicio in range(len(comptadors)):\n",
    "    comptadors[posicio] +=1 #el valor de comptadors en la posició \n",
    "\n",
    "print(comptadors)\n"
   ]
  },
  {
   "cell_type": "markdown",
   "metadata": {},
   "source": [
    "- En el primer codi no estaà recorrent l'estructura, no està modificant COMPTADORS perque està copiant el VALOR, no està atacant a COMPTADORS.\n",
    "- el VALOR és una altre posició de memoria copia\n",
    "- Per poder modificar COMPTADORS s'ha de fer per rangs (RANGE) o creant una nova llista on si es modifica el VALOR"
   ]
  },
  {
   "cell_type": "code",
   "execution_count": null,
   "metadata": {},
   "outputs": [],
   "source": [
    "comptadors = [0,0,0,0,0,]\n",
    "resultat = []\n",
    "for valor in comptadors:\n",
    "    valor += 1\n",
    "    resultat.append(valor)\n",
    "print(resultat)\n",
    "\n",
    "for posicio in range(len(comptadors)):\n",
    "    comptadors[posicio] +=1 #el valor de comptadors en la posició \n",
    "print(comptadors)\n"
   ]
  },
  {
   "cell_type": "markdown",
   "metadata": {},
   "source": [
    "                                                                         CADENES"
   ]
  },
  {
   "cell_type": "code",
   "execution_count": 14,
   "metadata": {},
   "outputs": [
    {
     "name": "stdout",
     "output_type": "stream",
     "text": [
      "murder\n"
     ]
    }
   ],
   "source": [
    "cadena = \"murder\"\n",
    "\n",
    "for car in cadena:\n",
    "    car = \"a\"\n",
    "print(cadena)"
   ]
  },
  {
   "cell_type": "code",
   "execution_count": null,
   "metadata": {},
   "outputs": [],
   "source": [
    "cadena = \"murder\"\n",
    "\n",
    "for car in cadena:\n",
    "    car = \"a\"\n",
    "print(cadena)\n",
    "\n",
    "for pos in range(len(cadena)):\n",
    "    cadena[pos] = \"a\""
   ]
  },
  {
   "cell_type": "markdown",
   "metadata": {},
   "source": [
    "- No funciona perque NO es pot modificar una CADENA, es poden modificar les LLISTES"
   ]
  },
  {
   "cell_type": "code",
   "execution_count": 16,
   "metadata": {},
   "outputs": [
    {
     "name": "stdout",
     "output_type": "stream",
     "text": [
      "murder\n",
      "aaaaaamurder\n"
     ]
    }
   ],
   "source": [
    "cadena = \"murder\"\n",
    "resultat = \"\"\n",
    "\n",
    "for car in cadena: #això es només un comptador BUCLE COMPTADOR\n",
    "    resultat += \"a\" #això es la longitud\n",
    "print(cadena)\n",
    "\n",
    "for pos in range(len(cadena)):  \n",
    "    resultat += cadena[pos] #posició de la CADENA aquí es modifica el RESULTAT, no la CADENA\n",
    "print(resultat)"
   ]
  }
 ],
 "metadata": {
  "kernelspec": {
   "display_name": "Python 3",
   "language": "python",
   "name": "python3"
  },
  "language_info": {
   "codemirror_mode": {
    "name": "ipython",
    "version": 3
   },
   "file_extension": ".py",
   "mimetype": "text/x-python",
   "name": "python",
   "nbconvert_exporter": "python",
   "pygments_lexer": "ipython3",
   "version": "3.12.6"
  }
 },
 "nbformat": 4,
 "nbformat_minor": 2
}
