{
 "cells": [
  {
   "cell_type": "code",
   "execution_count": null,
   "metadata": {},
   "outputs": [],
   "source": [
    "for num in range(10):\n",
    "    print(num)"
   ]
  },
  {
   "cell_type": "markdown",
   "metadata": {},
   "source": [
    "range(i, j) \n",
    "\n",
    "i, i+1, ...,j-2, j-1\n"
   ]
  },
  {
   "cell_type": "markdown",
   "metadata": {},
   "source": [
    "range(j) equivale range(0,j) 0,1...,j-1"
   ]
  },
  {
   "cell_type": "markdown",
   "metadata": {},
   "source": [
    "range(start, stop, step)"
   ]
  },
  {
   "cell_type": "markdown",
   "metadata": {},
   "source": [
    "range(i,j,s)  i, i+s, i+2*s,   ,?"
   ]
  },
  {
   "cell_type": "markdown",
   "metadata": {},
   "source": [
    "range(5)  0,...,4"
   ]
  },
  {
   "cell_type": "markdown",
   "metadata": {},
   "source": [
    "range(2,6) 2.3.4.5"
   ]
  },
  {
   "cell_type": "markdown",
   "metadata": {},
   "source": [
    "range(2,20,5) 2, 7, 12, 17"
   ]
  },
  {
   "cell_type": "code",
   "execution_count": null,
   "metadata": {},
   "outputs": [],
   "source": [
    "for num in range(2,20,5):\n",
    "    print(num)"
   ]
  },
  {
   "cell_type": "markdown",
   "metadata": {},
   "source": [
    "range(20,2,-2) 20, 18, 16, ..."
   ]
  },
  {
   "cell_type": "code",
   "execution_count": null,
   "metadata": {},
   "outputs": [],
   "source": [
    "for num in range(20,2,-2):\n",
    "    print(num)"
   ]
  },
  {
   "cell_type": "markdown",
   "metadata": {},
   "source": [
    "                                                                        LLISTES"
   ]
  },
  {
   "cell_type": "markdown",
   "metadata": {},
   "source": [
    "- Per cada ELEMENT que tingui COMPTADORS \n",
    "- quan vull modificar un element haig de concretar quina posició de l'element vull modificar. SEMPRE ES COMENÇA PER 0"
   ]
  },
  {
   "cell_type": "code",
   "execution_count": null,
   "metadata": {},
   "outputs": [],
   "source": [
    "comptadors = [0,0,0,0,0,]\n",
    "for valor in comptadors:\n",
    "   valor += 1\n",
    "\n",
    "print(comptadors)\n",
    "\n",
    "for posicio in range(len(comptadors)):\n",
    "    comptadors[posicio] +=1 #el valor de comptadors en la posició \n",
    "\n",
    "print(comptadors)\n"
   ]
  },
  {
   "cell_type": "markdown",
   "metadata": {},
   "source": [
    "- En el primer codi no estaà recorrent l'estructura, no està modificant COMPTADORS perque està copiant el VALOR, no està atacant a COMPTADORS.\n",
    "- el VALOR és una altre posició de memoria copia\n",
    "- Per poder modificar COMPTADORS s'ha de fer per rangs (RANGE) o creant una nova llista on si es modifica el VALOR"
   ]
  },
  {
   "cell_type": "code",
   "execution_count": null,
   "metadata": {},
   "outputs": [],
   "source": [
    "comptadors = [0,0,0,0,0,]\n",
    "resultat = []\n",
    "\n",
    "for valor in comptadors:\n",
    "    valor += 1\n",
    "    resultat.append(valor)\n",
    "print(resultat)\n",
    "\n",
    "for posicio in range(len(comptadors)):\n",
    "    comptadors[posicio] +=1 #el valor de comptadors en la posició \n",
    "print(comptadors)\n"
   ]
  },
  {
   "cell_type": "markdown",
   "metadata": {},
   "source": [
    "                                                                         CADENES"
   ]
  },
  {
   "cell_type": "code",
   "execution_count": null,
   "metadata": {},
   "outputs": [],
   "source": [
    "cadena = \"murder\"\n",
    "\n",
    "for car in cadena:\n",
    "    car = \"a\"\n",
    "print(cadena)"
   ]
  },
  {
   "cell_type": "code",
   "execution_count": null,
   "metadata": {},
   "outputs": [],
   "source": [
    "cadena = \"murder\"\n",
    "\n",
    "for car in cadena:\n",
    "    car = \"a\"\n",
    "print(cadena)\n",
    "\n",
    "for pos in range(len(cadena)):\n",
    "    cadena[pos] = \"a\""
   ]
  },
  {
   "cell_type": "markdown",
   "metadata": {},
   "source": [
    "- No funciona perque NO es pot modificar una CADENA, es poden modificar les LLISTES"
   ]
  },
  {
   "cell_type": "code",
   "execution_count": null,
   "metadata": {},
   "outputs": [],
   "source": [
    "cadena = \"murder\"\n",
    "resultat = \"\"\n",
    "\n",
    "for car in cadena: #això es només un comptador BUCLE COMPTADOR\n",
    "    resultat += \"a\" #això es la longitud\n",
    "print(cadena)\n",
    "\n",
    "for pos in range(len(cadena)):  \n",
    "    resultat += cadena[pos] #posició de la CADENA aquí es modifica el RESULTAT, no la CADENA\n",
    "print(resultat)"
   ]
  },
  {
   "cell_type": "code",
   "execution_count": null,
   "metadata": {},
   "outputs": [],
   "source": [
    "cadena = \"hola\"\n",
    "print(f\"Memòria de cadena abans: {id(cadena)}\") #ID es la posició de memòria del PC\n",
    "\n"
   ]
  },
  {
   "cell_type": "markdown",
   "metadata": {},
   "source": [
    "- ID = indica on s'enmmagatzema la posició de la memòria del PC en una CADENA\n",
    "- Si modifiques una cadena, canvia la ID"
   ]
  },
  {
   "cell_type": "code",
   "execution_count": null,
   "metadata": {},
   "outputs": [],
   "source": [
    "comptadors = [0,0,0,0,0,]\n",
    "resultat = []\n",
    "\n",
    "for valor in comptadors:\n",
    "    valor += 1\n",
    "    print(id(valor)) \n",
    "    print(id(comptadors[0]))\n",
    "print(comptadors)\n",
    "\n",
    "for posicio in range(len(comptadors)):\n",
    "    comptadors[posicio] +=1 \n",
    "print(comptadors)\n"
   ]
  },
  {
   "cell_type": "code",
   "execution_count": null,
   "metadata": {},
   "outputs": [],
   "source": [
    "comptadors = [2,2,2,2,2,]\n",
    "print(comptadors)\n",
    "print(id(comptadors))\n",
    "\n",
    "for posicio in range(len(comptadors)):\n",
    "    comptadors[posicio] +=10 \n",
    "print(comptadors)\n",
    "print (id(comptadors))\n",
    "\n",
    "for posicio in range(len(comptadors)):\n",
    "    comptadors[posicio] = 1\n",
    "print(id(comptadors))"
   ]
  },
  {
   "cell_type": "markdown",
   "metadata": {},
   "source": [
    "                                                                     SUB LLISTES"
   ]
  },
  {
   "cell_type": "code",
   "execution_count": null,
   "metadata": {},
   "outputs": [],
   "source": [
    "comptadors = [2,2,2,2,2] #posicions 0-1-2-3-4\n",
    "print(comptadors[0:3]) #de la posició 0 a la 3\n",
    "print(type(comptadors[0:3]))\n",
    "print(comptadors[3:]) #de la posició 3 cap al final\n",
    "print(comptadors[:3])\n",
    "print(comptadors[0:len(comptadors)]) #possem això quan no sabem la longitud total de la llista\n",
    "print(comptadors[:]) # es el mateix que el codi d'adalt\n"
   ]
  },
  {
   "cell_type": "code",
   "execution_count": null,
   "metadata": {},
   "outputs": [],
   "source": [
    "a = 1 # 1\n",
    "b = a # 1\n",
    "a += 1 # 1 + 1\n",
    "print(a)\n",
    "print(b)"
   ]
  },
  {
   "cell_type": "code",
   "execution_count": null,
   "metadata": {},
   "outputs": [],
   "source": [
    "a = ['hola', 'pollo'] \n",
    "b = a #mateixa posició que A\n",
    "a.append('saltarin')\n",
    "print(a, id(a))\n",
    "print(b, id(b))"
   ]
  },
  {
   "cell_type": "markdown",
   "metadata": {},
   "source": [
    "- son una COPIA perque es una LLISTA, degut a que tenen la mateixa ID"
   ]
  },
  {
   "cell_type": "code",
   "execution_count": null,
   "metadata": {},
   "outputs": [],
   "source": [
    "sa = 'hola'\n",
    "sb = sa\n",
    "sa = 'saltarin'\n",
    "print(sa, id(sa))\n",
    "print(sb, id(sb))"
   ]
  },
  {
   "cell_type": "code",
   "execution_count": null,
   "metadata": {},
   "outputs": [],
   "source": [
    "a = ['hola', 'pollo']\n",
    "b = a[:] # son dues posicions diferents\n",
    "a.append('saltarin')\n",
    "print(a, id(a))\n",
    "print(b, id(b))"
   ]
  },
  {
   "cell_type": "markdown",
   "metadata": {},
   "source": [
    "- Afegir tots els index de A"
   ]
  }
 ],
 "metadata": {
  "kernelspec": {
   "display_name": "Python 3",
   "language": "python",
   "name": "python3"
  },
  "language_info": {
   "codemirror_mode": {
    "name": "ipython",
    "version": 3
   },
   "file_extension": ".py",
   "mimetype": "text/x-python",
   "name": "python",
   "nbconvert_exporter": "python",
   "pygments_lexer": "ipython3",
   "version": "3.12.6"
  }
 },
 "nbformat": 4,
 "nbformat_minor": 2
}
