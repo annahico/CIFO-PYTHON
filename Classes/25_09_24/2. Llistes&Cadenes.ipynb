{
 "cells": [
  {
   "cell_type": "markdown",
   "metadata": {},
   "source": [
    "                                                                        LLISTES"
   ]
  },
  {
   "cell_type": "markdown",
   "metadata": {},
   "source": [
    "- Per cada ELEMENT que tingui COMPTADORS \n",
    "- quan vull modificar un element haig de concretar quina posició de l'element vull modificar. SEMPRE ES COMENÇA PER 0"
   ]
  },
  {
   "cell_type": "code",
   "execution_count": null,
   "metadata": {},
   "outputs": [],
   "source": [
    "comptadors = [0,0,0,0,0,]\n",
    "for valor in comptadors:\n",
    "   valor += 1\n",
    "\n",
    "print(comptadors)\n",
    "\n",
    "for posicio in range(len(comptadors)):\n",
    "    comptadors[posicio] +=1 #el valor de comptadors en la posició \n",
    "\n",
    "print(comptadors)\n"
   ]
  },
  {
   "cell_type": "markdown",
   "metadata": {},
   "source": [
    "- En el primer codi no estaà recorrent l'estructura, no està modificant COMPTADORS perque està copiant el VALOR, no està atacant a COMPTADORS.\n",
    "- el VALOR és una altre posició de memoria copia\n",
    "- Per poder modificar COMPTADORS s'ha de fer per rangs (RANGE) o creant una nova llista on si es modifica el VALOR"
   ]
  },
  {
   "cell_type": "code",
   "execution_count": null,
   "metadata": {},
   "outputs": [],
   "source": [
    "comptadors = [0,0,0,0,0,]\n",
    "resultat = []\n",
    "\n",
    "for valor in comptadors:\n",
    "    valor += 1\n",
    "    resultat.append(valor)\n",
    "print(resultat)\n",
    "\n",
    "for posicio in range(len(comptadors)):\n",
    "    comptadors[posicio] +=1 #el valor de comptadors en la posició \n",
    "print(comptadors)\n"
   ]
  },
  {
   "cell_type": "markdown",
   "metadata": {},
   "source": [
    "                                                                         CADENES"
   ]
  },
  {
   "cell_type": "code",
   "execution_count": null,
   "metadata": {},
   "outputs": [],
   "source": [
    "cadena = \"murder\"\n",
    "\n",
    "for car in cadena:\n",
    "    car = \"a\"\n",
    "print(cadena)"
   ]
  },
  {
   "cell_type": "code",
   "execution_count": null,
   "metadata": {},
   "outputs": [],
   "source": [
    "cadena = \"murder\"\n",
    "\n",
    "for car in cadena:\n",
    "    car = \"a\"\n",
    "print(cadena)\n",
    "\n",
    "for pos in range(len(cadena)):\n",
    "    cadena[pos] = \"a\""
   ]
  },
  {
   "cell_type": "markdown",
   "metadata": {},
   "source": [
    "- No funciona perque NO es pot modificar una CADENA, es poden modificar les LLISTES"
   ]
  },
  {
   "cell_type": "code",
   "execution_count": null,
   "metadata": {},
   "outputs": [],
   "source": [
    "cadena = \"murder\"\n",
    "resultat = \"\"\n",
    "\n",
    "for car in cadena: #això es només un comptador BUCLE COMPTADOR\n",
    "    resultat += \"a\" #això es la longitud\n",
    "print(cadena)\n",
    "\n",
    "for pos in range(len(cadena)):  \n",
    "    resultat += cadena[pos] #posició de la CADENA aquí es modifica el RESULTAT, no la CADENA\n",
    "print(resultat)"
   ]
  },
  {
   "cell_type": "code",
   "execution_count": null,
   "metadata": {},
   "outputs": [],
   "source": [
    "cadena = \"hola\"\n",
    "print(f\"Memòria de cadena abans: {id(cadena)}\") #ID es la posició de memòria del PC\n",
    "\n"
   ]
  },
  {
   "cell_type": "markdown",
   "metadata": {},
   "source": [
    "- ID = indica on s'enmmagatzema la posició de la memòria del PC en una CADENA\n",
    "- Si modifiques una cadena, canvia la ID"
   ]
  },
  {
   "cell_type": "code",
   "execution_count": null,
   "metadata": {},
   "outputs": [],
   "source": [
    "comptadors = [0,0,0,0,0,]\n",
    "resultat = []\n",
    "\n",
    "for valor in comptadors:\n",
    "    valor += 1\n",
    "    print(id(valor)) \n",
    "    print(id(comptadors[0]))\n",
    "print(comptadors)\n",
    "\n",
    "for posicio in range(len(comptadors)):\n",
    "    comptadors[posicio] +=1 \n",
    "print(comptadors)\n"
   ]
  },
  {
   "cell_type": "code",
   "execution_count": null,
   "metadata": {},
   "outputs": [],
   "source": [
    "comptadors = [2,2,2,2,2,]\n",
    "print(comptadors)\n",
    "print(id(comptadors))\n",
    "\n",
    "for posicio in range(len(comptadors)):\n",
    "    comptadors[posicio] +=10 \n",
    "print(comptadors)\n",
    "print (id(comptadors))\n",
    "\n",
    "for posicio in range(len(comptadors)):\n",
    "    comptadors[posicio] = 1\n",
    "print(id(comptadors))"
   ]
  },
  {
   "cell_type": "markdown",
   "metadata": {},
   "source": [
    "                                                          MODIFICACIÓ DE CADENES"
   ]
  },
  {
   "cell_type": "code",
   "execution_count": 2,
   "metadata": {},
   "outputs": [
    {
     "name": "stdout",
     "output_type": "stream",
     "text": [
      "None\n"
     ]
    }
   ],
   "source": [
    "llista = [1,2,3,4,5]\n",
    "llista.append(5) #SI FUNCIONA\n",
    "llista = llista.append(5) #NO mostra la llista\n",
    "print(llista)"
   ]
  },
  {
   "cell_type": "code",
   "execution_count": 8,
   "metadata": {},
   "outputs": [
    {
     "name": "stdout",
     "output_type": "stream",
     "text": [
      "2587735993024\n",
      "2587735993024\n",
      "hola\n"
     ]
    }
   ],
   "source": [
    "cadena = \" ho la \"\n",
    "print(id(cadena))\n",
    "cadena2 = cadena.replace(\" \",\"\") # es remplaça una cadena per una altre nova\n",
    "print(id(cadena))\n",
    "print(cadena2)"
   ]
  },
  {
   "cell_type": "markdown",
   "metadata": {},
   "source": [
    "Amb les LLISTES NO podem posar ***llista = llista.replace*** pero a les CADENES SI ***cadena = cadena.replace***"
   ]
  },
  {
   "cell_type": "code",
   "execution_count": 9,
   "metadata": {},
   "outputs": [
    {
     "name": "stdout",
     "output_type": "stream",
     "text": [
      "2587735993024\n",
      "2587736397200\n",
      " ho la \n"
     ]
    }
   ],
   "source": [
    "cadena = \" ho la \"\n",
    "print(id(cadena.replace(\" \",\"\")))\n",
    "print(id(cadena))\n",
    "print(cadena)"
   ]
  }
 ],
 "metadata": {
  "kernelspec": {
   "display_name": "Python 3",
   "language": "python",
   "name": "python3"
  },
  "language_info": {
   "codemirror_mode": {
    "name": "ipython",
    "version": 3
   },
   "file_extension": ".py",
   "mimetype": "text/x-python",
   "name": "python",
   "nbconvert_exporter": "python",
   "pygments_lexer": "ipython3",
   "version": "3.12.6"
  }
 },
 "nbformat": 4,
 "nbformat_minor": 2
}
