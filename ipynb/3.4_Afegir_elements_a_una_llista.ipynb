{
 "cells": [
  {
   "cell_type": "markdown",
   "metadata": {},
   "source": [
    "<span style=\"color:orange\">3.4 AFEGIR ELEMENTS A UNA LLISTA<br><br>llista.append(element) ----  Afegir element al final de la llista.<br><br>\n",
    "llista.insert(index, element) ----- Afegir element abans d'index<br><br>llista1.extend(llista2) ------ El resultat equival a llista1 + llista2</span>\n",
    "\n",
    "\n",
    "\n",
    "\n",
    "\n"
   ]
  },
  {
   "cell_type": "markdown",
   "metadata": {},
   "source": [
    "<span style=\"color:orange\">llista.append(element)</span>"
   ]
  },
  {
   "cell_type": "code",
   "execution_count": null,
   "metadata": {},
   "outputs": [],
   "source": [
    "llista = [2, 3, 4, 7]\n",
    "\n",
    "element = 10\n",
    "\n",
    "llista.append(element)\n",
    "\n",
    "print(llista)"
   ]
  },
  {
   "cell_type": "code",
   "execution_count": null,
   "metadata": {},
   "outputs": [],
   "source": []
  },
  {
   "cell_type": "markdown",
   "metadata": {},
   "source": [
    "<span style=\"color:orange\">Comprova que no té sentit la línia de codi:<br><br>print(llista.append(element))<br><br>Quan parlem de funcions explicarem el perquè del resultat \"None\".</span>\n",
    "\n",
    "  \n",
    "\n",
    "\n",
    "\n"
   ]
  },
  {
   "cell_type": "code",
   "execution_count": null,
   "metadata": {},
   "outputs": [],
   "source": [
    "llista = [2, 3, 4, 7]\n",
    "\n",
    "element = 10\n",
    "\n",
    "print(llista.append(element))"
   ]
  },
  {
   "cell_type": "markdown",
   "metadata": {},
   "source": [
    "<span style=\"color:orange\">llista.insert(index, element)</span>"
   ]
  },
  {
   "cell_type": "code",
   "execution_count": null,
   "metadata": {},
   "outputs": [],
   "source": [
    "llista = [2, 3, 4, 7]\n",
    "\n",
    "index = 2\n",
    "\n",
    "element = 10\n",
    "\n",
    "llista.insert(index, element)\n",
    "\n",
    "print(llista)"
   ]
  },
  {
   "cell_type": "markdown",
   "metadata": {},
   "source": [
    "<span style=\"color:orange\">llista1.extend(llista2)</span>"
   ]
  },
  {
   "cell_type": "code",
   "execution_count": null,
   "metadata": {},
   "outputs": [],
   "source": [
    "llista1 = [2, 56, 9, 18]\n",
    "\n",
    "llista2 = [3, 59, 65]\n",
    "\n",
    "print(llista1.extend(llista2))\n",
    "\n",
    "print(llista1)"
   ]
  }
 ],
 "metadata": {
  "kernelspec": {
   "display_name": "base",
   "language": "python",
   "name": "python3"
  },
  "language_info": {
   "codemirror_mode": {
    "name": "ipython",
    "version": 3
   },
   "file_extension": ".py",
   "mimetype": "text/x-python",
   "name": "python",
   "nbconvert_exporter": "python",
   "pygments_lexer": "ipython3",
   "version": "3.12.6"
  }
 },
 "nbformat": 4,
 "nbformat_minor": 2
}
